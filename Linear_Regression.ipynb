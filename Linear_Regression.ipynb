{
  "nbformat": 4,
  "nbformat_minor": 0,
  "metadata": {
    "colab": {
      "provenance": [],
      "include_colab_link": true
    },
    "kernelspec": {
      "name": "python3",
      "display_name": "Python 3"
    },
    "language_info": {
      "name": "python"
    }
  },
  "cells": [
    {
      "cell_type": "markdown",
      "metadata": {
        "id": "view-in-github",
        "colab_type": "text"
      },
      "source": [
        "<a href=\"https://colab.research.google.com/github/kantsteen/3fSemProjUDP/blob/main/Linear_Regression.ipynb\" target=\"_parent\"><img src=\"https://colab.research.google.com/assets/colab-badge.svg\" alt=\"Open In Colab\"/></a>"
      ]
    },
    {
      "cell_type": "markdown",
      "source": [
        "### Ensure that we use Python 3.7 or above:"
      ],
      "metadata": {
        "id": "cifewyhF9BAO"
      }
    },
    {
      "cell_type": "code",
      "execution_count": 30,
      "metadata": {
        "id": "8KOQTcKX8bg2"
      },
      "outputs": [],
      "source": [
        "import sys\n",
        "\n",
        "assert sys.version_info >= (3, 7)"
      ]
    },
    {
      "cell_type": "markdown",
      "source": [
        "### Ensure that we use at least Scikit-Learn 1.0.1"
      ],
      "metadata": {
        "id": "MdUYfAR79gu8"
      }
    },
    {
      "cell_type": "code",
      "source": [
        "from packaging import version\n",
        "import sklearn\n",
        "\n",
        "assert version.parse(sklearn.__version__) >= version.parse(\"1.0.1\")"
      ],
      "metadata": {
        "id": "cEyMjLcU86Dw"
      },
      "execution_count": 31,
      "outputs": []
    },
    {
      "cell_type": "markdown",
      "source": [
        "### Let us set up the fonts in mathplotlib"
      ],
      "metadata": {
        "id": "y2xAwFNX-Q0D"
      }
    },
    {
      "cell_type": "code",
      "source": [
        "import matplotlib.pyplot as plt\n",
        "\n",
        "plt.rc('font', size=12)\n",
        "plt.rc('axes', labelsize=14, titlesize=14)\n",
        "plt.rc('legend', fontsize=12)\n",
        "plt.rc('xtick', labelsize=10)\n",
        "plt.rc('ytick', labelsize=10)"
      ],
      "metadata": {
        "id": "gwi4DUJV-K1b"
      },
      "execution_count": 32,
      "outputs": []
    },
    {
      "cell_type": "markdown",
      "source": [
        "### Import important libraries 'numpy' and 'pandas'"
      ],
      "metadata": {
        "id": "tvKLkp_dHHwf"
      }
    },
    {
      "cell_type": "code",
      "source": [
        "import numpy as np\n",
        "import pandas as pd"
      ],
      "metadata": {
        "id": "gK4Onnhy-6o8"
      },
      "execution_count": 33,
      "outputs": []
    },
    {
      "cell_type": "markdown",
      "source": [
        "# Make reference to life satifaction data file"
      ],
      "metadata": {
        "id": "zZoc-LzQHYcB"
      }
    },
    {
      "cell_type": "code",
      "source": [
        "datafile = \"https://github.com/ageron/data/raw/main/lifesat/lifesat.csv\"\n",
        "\n",
        "##Try with this one later\n",
        "##datafile = \"https://raw.githubusercontent.com/jpandersen61/Machine-Learning/main/InjuredandkilledintrafikDK.csv\""
      ],
      "metadata": {
        "id": "1EB-X59l_zgg"
      },
      "execution_count": 34,
      "outputs": []
    },
    {
      "cell_type": "markdown",
      "source": [
        "### Excercise(s):"
      ],
      "metadata": {
        "id": "GLUiNLM-HqXJ"
      }
    },
    {
      "cell_type": "markdown",
      "source": [
        "Try viewing this file in your internet browser"
      ],
      "metadata": {
        "id": "Xd2829tIAimY"
      }
    },
    {
      "cell_type": "markdown",
      "source": [
        "### Load the data file"
      ],
      "metadata": {
        "id": "yWx2mhWjIMq4"
      }
    },
    {
      "cell_type": "code",
      "source": [
        "lifesat = pd.read_csv(datafile)\n"
      ],
      "metadata": {
        "id": "9g1ETm1Y_Q2c"
      },
      "execution_count": 35,
      "outputs": []
    },
    {
      "cell_type": "markdown",
      "source": [
        "### Excercise(s)"
      ],
      "metadata": {
        "id": "JBJfOo9HFmhK"
      }
    },
    {
      "cell_type": "markdown",
      "source": [
        "1. Make a new code cell below and evaluate 'lifesat'"
      ],
      "metadata": {
        "id": "IuZ12x0WF6QK"
      }
    },
    {
      "cell_type": "markdown",
      "source": [
        "2. Get some information about the kind of data structure, that life satisfaction data is store in. Usefuk to know when using the data afterwards in Python: Make a new code cell below and evaluate 'type(lifesat)'"
      ],
      "metadata": {
        "id": "aDwhNpA3Cyp0"
      }
    },
    {
      "cell_type": "markdown",
      "source": [
        "### Extract the learning set 'X' and its labels 'y'"
      ],
      "metadata": {
        "id": "cj4YKu6oFI3Q"
      }
    },
    {
      "cell_type": "code",
      "source": [
        "X = lifesat[[\"GDP per capita (USD)\"]].values\n",
        "y = lifesat[[\"Life satisfaction\"]].values\n",
        "\n"
      ],
      "metadata": {
        "id": "NtovVwne_pM7"
      },
      "execution_count": 36,
      "outputs": []
    },
    {
      "cell_type": "markdown",
      "source": [
        "### Exercises:"
      ],
      "metadata": {
        "id": "HSYpesjdEwCn"
      }
    },
    {
      "cell_type": "markdown",
      "source": [
        "Make a new code cell below and evaluate 'X'\n",
        "\n",
        "\n",
        "\n"
      ],
      "metadata": {
        "id": "pcR9Ia3VDmWw"
      }
    },
    {
      "cell_type": "markdown",
      "source": [
        "Make a new code cell below and evaluate 'y'"
      ],
      "metadata": {
        "id": "vDQPFB9AEMMR"
      }
    },
    {
      "cell_type": "markdown",
      "source": [
        "### Let us plot the life satisfaction data and introduce a model"
      ],
      "metadata": {
        "id": "WGVG7gP1EcIx"
      }
    },
    {
      "cell_type": "code",
      "source": [
        "lifesat.plot(kind='scatter', grid=True,\n",
        "             x=\"GDP per capita (USD)\", y=\"Life satisfaction\")\n",
        "plt.axis([23_500, 62_500, 4, 9])\n",
        "plt.show()"
      ],
      "metadata": {
        "colab": {
          "base_uri": "https://localhost:8080/",
          "height": 460
        },
        "id": "uuQq8nUOERM8",
        "outputId": "8fec088b-21fd-4543-99c5-b05c07b9e1c5"
      },
      "execution_count": 37,
      "outputs": [
        {
          "output_type": "display_data",
          "data": {
            "text/plain": [
              "<Figure size 640x480 with 1 Axes>"
            ],
            "image/png": "[encoded data removed]"
          },
          "metadata": {}
        }
      ]
    },
    {
      "cell_type": "markdown",
      "source": [
        "### Excercise(s):"
      ],
      "metadata": {
        "id": "JIXI1IL6JvVm"
      }
    },
    {
      "cell_type": "markdown",
      "source": [
        "Define various 't0' and 't1' (thetas) and observe how it affects our model"
      ],
      "metadata": {
        "id": "EA7d6lEBJ4OK"
      }
    },
    {
      "cell_type": "code",
      "source": [
        "t0, t1 = 3.75, 6.78e-05\n",
        "\n",
        "from sklearn import linear_model\n",
        "min_gdp = 23_500\n",
        "max_gdp = 62_500\n",
        "min_life_sat = 4\n",
        "max_life_sat = 9\n",
        "\n",
        "lifesat.plot(kind='scatter', figsize=(5, 3), grid=True,\n",
        "                   x=\"GDP per capita (USD)\", y=\"Life satisfaction\")\n",
        "\n",
        "X = np.linspace(min_gdp, max_gdp, 1000)\n",
        "plt.plot(X, t0 + t1 * X, \"b\")\n",
        "\n",
        "plt.text(max_gdp - 20_000, min_life_sat + 1.9,\n",
        "         fr\"$\\theta_0 = {t0:.2f}$\", color=\"b\")\n",
        "plt.text(max_gdp - 20_000, min_life_sat + 1.3,\n",
        "         fr\"$\\theta_1 = {t1 * 1e5:.2f} \\times 10^{{-5}}$\", color=\"b\")\n",
        "\n",
        "plt.axis([min_gdp, max_gdp, min_life_sat, max_life_sat])\n",
        "\n",
        "plt.show()"
      ],
      "metadata": {
        "colab": {
          "base_uri": "https://localhost:8080/",
          "height": 321
        },
        "id": "HXN6ixwFIzii",
        "outputId": "8450a04b-097c-48ff-c7ea-390b88cb3a7c"
      },
      "execution_count": 38,
      "outputs": [
        {
          "output_type": "display_data",
          "data": {
            "text/plain": [
              "<Figure size 500x300 with 1 Axes>"
            ],
            "image/png": "[encoded data removed]"
          },
          "metadata": {}
        }
      ]
    },
    {
      "cell_type": "markdown",
      "source": [
        "### Establish the model"
      ],
      "metadata": {
        "id": "J0iRLACuXH79"
      }
    },
    {
      "cell_type": "code",
      "source": [
        "from sklearn import linear_model\n",
        "\n",
        "X_features = lifesat[[\"GDP per capita (USD)\"]]\n",
        "y_labels = lifesat[[\"Life satisfaction\"]]\n",
        "\n",
        "lin1 = linear_model.LinearRegression()\n",
        "lin1.fit(X_features, y_labels)\n",
        "\n",
        "t0, t1 = lin1.intercept_[0], lin1.coef_[0][0]\n",
        "print(f\"θ0={t0:.2f}, θ1={t1:.2e}\")"
      ],
      "metadata": {
        "colab": {
          "base_uri": "https://localhost:8080/"
        },
        "id": "BylN6risXh1C",
        "outputId": "b5f41d6b-cb2c-4041-c1eb-051451a77027"
      },
      "execution_count": 39,
      "outputs": [
        {
          "output_type": "stream",
          "name": "stdout",
          "text": [
            "θ0=3.75, θ1=6.78e-05\n"
          ]
        }
      ]
    },
    {
      "cell_type": "code",
      "source": [
        "import numpy as np\n",
        "\n",
        "X_pred = 40000\n",
        "y_pred = lin1.predict([[X_pred]])[0,0]"
      ],
      "metadata": {
        "colab": {
          "base_uri": "https://localhost:8080/"
        },
        "id": "i7nan8QdT8ZO",
        "outputId": "eb5a4d8d-31bf-4d41-9700-185a9b1f19f2"
      },
      "execution_count": 40,
      "outputs": [
        {
          "output_type": "stream",
          "name": "stderr",
          "text": [
            "/usr/local/lib/python3.12/dist-packages/sklearn/utils/validation.py:2739: UserWarning: X does not have valid feature names, but LinearRegression was fitted with feature names\n",
            "  warnings.warn(\n"
          ]
        }
      ]
    },
    {
      "cell_type": "code",
      "source": [
        "y_pred"
      ],
      "metadata": {
        "colab": {
          "base_uri": "https://localhost:8080/"
        },
        "id": "xgXDykJWUgcU",
        "outputId": "6e440a20-f8d5-4a61-b686-7d2126cc66a9"
      },
      "execution_count": 41,
      "outputs": [
        {
          "output_type": "execute_result",
          "data": {
            "text/plain": [
              "np.float64(6.4606093051133975)"
            ]
          },
          "metadata": {},
          "execution_count": 41
        }
      ]
    },
    {
      "cell_type": "code",
      "source": [],
      "metadata": {
        "id": "KRCZu6w0Ub-Q"
      },
      "execution_count": 41,
      "outputs": []
    },
    {
      "cell_type": "code",
      "source": [],
      "metadata": {
        "id": "FiR8qLxZUSQ7"
      },
      "execution_count": 41,
      "outputs": []
    },
    {
      "cell_type": "code",
      "source": [
        "from sklearn import linear_model\n",
        "min_gdp = 23_500\n",
        "max_gdp = 62_500\n",
        "min_life_sat = 4\n",
        "max_life_sat = 9\n",
        "\n",
        "lifesat.plot(kind='scatter', figsize=(5, 3), grid=True,\n",
        "                   x=\"GDP per capita (USD)\", y=\"Life satisfaction\")\n",
        "\n",
        "X = np.linspace(min_gdp, max_gdp, 2)\n",
        "plt.plot(X, t0 + t1 * X, \"b\")\n",
        "\n",
        "plt.text(max_gdp - 20_000, min_life_sat + 1.9,\n",
        "         fr\"$\\theta_0 = {t0:.2f}$\", color=\"b\")\n",
        "plt.text(max_gdp - 20_000, min_life_sat + 1.3,\n",
        "         fr\"$\\theta_1 = {t1 * 1e5:.2f} \\times 10^{{-5}}$\", color=\"b\")\n",
        "\n",
        "plt.axis([min_gdp, max_gdp, min_life_sat, max_life_sat])\n",
        "\n",
        "plt.plot([X_pred, X_pred],\n",
        "         [min_life_sat, y_pred], \"r--\")\n",
        "plt.plot(X_pred, y_pred, \"ro\")\n",
        "\n",
        "plt.show()"
      ],
      "metadata": {
        "colab": {
          "base_uri": "https://localhost:8080/",
          "height": 321
        },
        "id": "J2vqshOxZMXt",
        "outputId": "45c75b67-bec2-497a-afc3-1ee29489ddd6"
      },
      "execution_count": 51,
      "outputs": [
        {
          "output_type": "display_data",
          "data": {
            "text/plain": [
              "<Figure size 500x300 with 1 Axes>"
            ],
            "image/png": "[encoded data removed]"
          },
          "metadata": {}
        }
      ]
    },
    {
      "cell_type": "markdown",
      "source": [
        "### Excercise(s):\n"
      ],
      "metadata": {
        "id": "mrttlJ7yPI7m"
      }
    },
    {
      "cell_type": "markdown",
      "source": [
        "1. Try with another dataset https://raw.githubusercontent.com/jpandersen61/Machine-Learning/main/InjuredandkilledintrafikDK.csv"
      ],
      "metadata": {
        "id": "rvGBeixgPRTH"
      }
    },
    {
      "cell_type": "code",
      "source": [
        "datafile2 = \"https://raw.githubusercontent.com/jpandersen61/Machine-Learning/main/InjuredandkilledintrafikDK.csv\"\n",
        "\n",
        "\n",
        "yearQty = pd.read_csv(datafile2)\n",
        "\n",
        "x = yearQty[[\"year\"]].values\n",
        "y = yearQty[[\"quantity\"]].values\n",
        "X_feature = yearQty[[\"year\"]]\n",
        "y_label = yearQty[[\"quantity\"]]\n",
        "\n",
        "# plot the values\n",
        "yearQty.plot(kind='scatter', grid=True, figsize=(6,4), x=\"year\", y=\"quantity\")\n",
        "\n",
        "\n",
        "# linear regression\n",
        "lin2 = linear_model.LinearRegression()\n",
        "\n",
        "# fit linear regression\n",
        "lin2.fit(X_feature,y_label)\n",
        "\n",
        "# 2 points between 2000 and 2022\n",
        "x = np.linspace(2000,2025, 2)\n",
        "\n",
        "# calculating the t0 and t1 intercept/slope\n",
        "t0, t1 = lin2.intercept_[0],lin2.coef_[0][0]\n",
        "\n",
        "plt.plot(x, t0 + t1 * x, \"b\")\n",
        "\n",
        "print(f\"t0: {t0}, t1: {t1}\")\n",
        "\n",
        "X_pred2 = 2025\n",
        "y_pred2 = lin2.predict([[X_pred2]])[0,0]\n",
        "\n",
        "print(y_pred2)\n",
        "\n",
        "plt.plot(X_pred2, y_pred2, \"ro\")\n",
        "\n",
        "plt.text(2016, 5000, f\"2025 qty = {y_pred2:.2f}\")\n"
      ],
      "metadata": {
        "id": "O4NPUCygPYr3",
        "colab": {
          "base_uri": "https://localhost:8080/",
          "height": 500
        },
        "outputId": "f8cf0dfe-3d45-4f25-cf4f-7e6e9254e637"
      },
      "execution_count": 101,
      "outputs": [
        {
          "output_type": "stream",
          "name": "stdout",
          "text": [
            "t0: 651608.682100508, t1: -321.4088085827215\n",
            "755.8447204969125\n"
          ]
        },
        {
          "output_type": "stream",
          "name": "stderr",
          "text": [
            "/usr/local/lib/python3.12/dist-packages/sklearn/utils/validation.py:2739: UserWarning: X does not have valid feature names, but LinearRegression was fitted with feature names\n",
            "  warnings.warn(\n"
          ]
        },
        {
          "output_type": "execute_result",
          "data": {
            "text/plain": [
              "Text(2016, 5000, '2025 qty = 755.84')"
            ]
          },
          "metadata": {},
          "execution_count": 101
        },
        {
          "output_type": "display_data",
          "data": {
            "text/plain": [
              "<Figure size 600x400 with 1 Axes>"
            ],
            "image/png": "[encoded data removed]"
          },
          "metadata": {}
        }
      ]
    },
    {
      "cell_type": "markdown",
      "source": [
        "### Questions"
      ],
      "metadata": {
        "id": "xpgWXfOyA23y"
      }
    },
    {
      "cell_type": "markdown",
      "source": [
        "1. How would you define Machine Learning?\n"
      ],
      "metadata": {
        "id": "rOIfHyJcA8C8"
      }
    },
    {
      "cell_type": "markdown",
      "source": [
        "Write your answer here"
      ],
      "metadata": {
        "id": "bq3i-aI1BH9Q"
      }
    },
    {
      "cell_type": "markdown",
      "source": [
        "2. Can you name four types of problems where it shines?"
      ],
      "metadata": {
        "id": "wMA1G2PPBwpU"
      }
    },
    {
      "cell_type": "markdown",
      "source": [
        "Write your answer here"
      ],
      "metadata": {
        "id": "QAcDslfMBtVj"
      }
    },
    {
      "cell_type": "markdown",
      "source": [
        "3. What is a labeled training set?"
      ],
      "metadata": {
        "id": "i0M6EMx8B71g"
      }
    },
    {
      "cell_type": "markdown",
      "source": [
        "Write your answer here"
      ],
      "metadata": {
        "id": "fipL2K_FBtin"
      }
    },
    {
      "cell_type": "markdown",
      "source": [
        "4. What are the two most common supervised tasks?"
      ],
      "metadata": {
        "id": "43FAK9O-CE8K"
      }
    },
    {
      "cell_type": "markdown",
      "source": [
        "Write your answer here"
      ],
      "metadata": {
        "id": "JjakH8_HBtmV"
      }
    },
    {
      "cell_type": "markdown",
      "source": [
        "5. Can you name four common unsupervised tasks?"
      ],
      "metadata": {
        "id": "6_5YsjSzCJes"
      }
    },
    {
      "cell_type": "markdown",
      "source": [
        "Write your answer here"
      ],
      "metadata": {
        "id": "aPFI1nvxBtp4"
      }
    },
    {
      "cell_type": "markdown",
      "source": [
        "6. What type of Machine Learning algorithm would you use to allow\n",
        "a robot to walk in various unknown terrains?\n"
      ],
      "metadata": {
        "id": "DwIRcR9YCNb5"
      }
    },
    {
      "cell_type": "markdown",
      "source": [
        "Write your answer here"
      ],
      "metadata": {
        "id": "E8SE6UvrBtuJ"
      }
    },
    {
      "cell_type": "markdown",
      "source": [
        "7. What type of algorithm would you use to segment your customers\n",
        "into multiple groups?"
      ],
      "metadata": {
        "id": "ZflRQBbbCRwX"
      }
    },
    {
      "cell_type": "markdown",
      "source": [
        "Write your answer here"
      ],
      "metadata": {
        "id": "7QcbHPkBBtwI"
      }
    },
    {
      "cell_type": "markdown",
      "source": [
        "8. Would you frame the problem of spam detection as a supervised\n",
        "learning problem or an unsupervised learning problem?"
      ],
      "metadata": {
        "id": "X0fKgGXsLq6o"
      }
    },
    {
      "cell_type": "markdown",
      "source": [
        "Write your answer here"
      ],
      "metadata": {
        "id": "nLnPVahlBty_"
      }
    },
    {
      "cell_type": "markdown",
      "source": [
        "9. What is an online learning system?\n"
      ],
      "metadata": {
        "id": "n7CHmnsdCeY3"
      }
    },
    {
      "cell_type": "markdown",
      "source": [
        "Write your answer here"
      ],
      "metadata": {
        "id": "0YRkRS_7Bt2I"
      }
    },
    {
      "cell_type": "markdown",
      "source": [
        "10. What is out-of-core learning?"
      ],
      "metadata": {
        "id": "UKkgQ_veCsN_"
      }
    },
    {
      "cell_type": "markdown",
      "source": [
        "Write your answer here"
      ],
      "metadata": {
        "id": "0raVrt27Bt5U"
      }
    },
    {
      "cell_type": "markdown",
      "source": [
        "11. What type of learning algorithm relies on a similarity measure to\n",
        "make predictions?"
      ],
      "metadata": {
        "id": "alMcqdhaCt8m"
      }
    },
    {
      "cell_type": "markdown",
      "source": [
        "Write your answer here"
      ],
      "metadata": {
        "id": "NzHnn7Q5Bt8C"
      }
    },
    {
      "cell_type": "markdown",
      "source": [
        "12. What is the difference between a model parameter and a learning\n",
        "algorithm’s hyperparameter?"
      ],
      "metadata": {
        "id": "lpvdcsj2CznS"
      }
    },
    {
      "cell_type": "markdown",
      "source": [
        "Write your answer here"
      ],
      "metadata": {
        "id": "22JFh-dABt_J"
      }
    },
    {
      "cell_type": "markdown",
      "source": [
        "13. What do model-based learning algorithms search for? What is the\n",
        "most common strategy they use to succeed? How do they make\n",
        "predictions?"
      ],
      "metadata": {
        "id": "fwVjj-WkC4U5"
      }
    },
    {
      "cell_type": "markdown",
      "source": [
        "Write your answer here"
      ],
      "metadata": {
        "id": "c8Q85u6RBuCH"
      }
    },
    {
      "cell_type": "markdown",
      "source": [
        "14. Can you name four of the main challenges in Machine Learning?"
      ],
      "metadata": {
        "id": "wkKbPfjODAj-"
      }
    },
    {
      "cell_type": "markdown",
      "source": [
        "Write your answer here"
      ],
      "metadata": {
        "id": "HznUcxBmBuFH"
      }
    },
    {
      "cell_type": "code",
      "metadata": {
        "colab": {
          "base_uri": "https://localhost:8080/"
        },
        "id": "de573f0f",
        "outputId": "8a65097c-d39f-4089-aee2-f93a602c556b"
      },
      "source": [
        "X_pred_df = pd.DataFrame([[X_pred]], columns=[\"GDP per capita (USD)\"])\n",
        "y_pred = lin1.predict(X_pred_df)[0, 0]\n",
        "print(y_pred)"
      ],
      "execution_count": 43,
      "outputs": [
        {
          "output_type": "stream",
          "name": "stdout",
          "text": [
            "6.4606093051133975\n"
          ]
        }
      ]
    }
  ]
}